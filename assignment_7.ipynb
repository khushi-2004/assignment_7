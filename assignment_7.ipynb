{
 "cells": [
  {
   "cell_type": "code",
   "execution_count": null,
   "id": "9d684e68-7cf3-49fa-a584-8dd9385a73af",
   "metadata": {},
   "outputs": [],
   "source": [
    "Q1. What is Abstraction in OOps? Explain with an example."
   ]
  },
  {
   "cell_type": "code",
   "execution_count": null,
   "id": "68ae73fb-8ba3-49db-b3aa-2d3b2d12d6ad",
   "metadata": {},
   "outputs": [],
   "source": [
    "Abstraction:\n",
    "    the process of hiding the interanl details of an appliction from outer world\n",
    "    it is a design level process use to reduce the complexity.\n",
    "    "
   ]
  },
  {
   "cell_type": "code",
   "execution_count": 1,
   "id": "f2d7ba38-1ff3-44c2-b119-8b40675e8652",
   "metadata": {},
   "outputs": [],
   "source": [
    "import abc\n",
    "class pwskills:\n",
    "    \n",
    "    @abc.abstractmethod\n",
    "    def student_detail(self):\n",
    "        pass"
   ]
  },
  {
   "cell_type": "code",
   "execution_count": 2,
   "id": "e81a589f-f0cb-4e47-ab19-b7bf482e82f1",
   "metadata": {},
   "outputs": [],
   "source": [
    "class student_detail(pwskills):\n",
    "    \n",
    "    def student_details(self):\n",
    "        return \"this is a math for taking student details\"\n",
    "    "
   ]
  },
  {
   "cell_type": "code",
   "execution_count": 3,
   "id": "f6cb9e30-1e8d-4418-a19c-aa842cceb641",
   "metadata": {},
   "outputs": [],
   "source": [
    "std=student_detail()"
   ]
  },
  {
   "cell_type": "code",
   "execution_count": 5,
   "id": "891d3a1c-8b3b-4a77-8864-ccbe9b97855b",
   "metadata": {},
   "outputs": [
    {
     "data": {
      "text/plain": [
       "'this is a math for taking student details'"
      ]
     },
     "execution_count": 5,
     "metadata": {},
     "output_type": "execute_result"
    }
   ],
   "source": [
    "std.student_details()"
   ]
  },
  {
   "cell_type": "code",
   "execution_count": null,
   "id": "2d987f24-f38a-472f-a5fb-432e9a4a7b86",
   "metadata": {},
   "outputs": [],
   "source": [
    "Q2. Differentiate between Abstraction and Encapsulation. Explain with an example."
   ]
  },
  {
   "cell_type": "code",
   "execution_count": null,
   "id": "8b22e399-cdbe-47f0-925c-48c2829c6b77",
   "metadata": {},
   "outputs": [],
   "source": [
    "Abstraction:\n",
    "    Abstraction is a design level process and it is used to reduce the complexity at the designing stage of a project\n",
    "    \n",
    "Encapsulation:\n",
    "    Encapsulation is an implementation level process, and it is used to provide privacy and maintain control over the transparency of data at the implementation stage of a project.\n",
    "    "
   ]
  },
  {
   "cell_type": "code",
   "execution_count": null,
   "id": "b28fe7fa-f050-4c17-88eb-2b6957b0a311",
   "metadata": {},
   "outputs": [],
   "source": [
    "Q3. What is abc module in python? Why is it used?"
   ]
  },
  {
   "cell_type": "code",
   "execution_count": null,
   "id": "35131c49-cdf2-4901-bce4-a31328767850",
   "metadata": {},
   "outputs": [],
   "source": [
    "'abc' module in python library provide the interface for defining custom abstract base class\n",
    "this is done by @abstractmethod decorator"
   ]
  },
  {
   "cell_type": "code",
   "execution_count": null,
   "id": "725eb26d-bffb-43b5-aa7c-1003a0b01751",
   "metadata": {},
   "outputs": [],
   "source": [
    "Q4. How can we achieve data abstraction?"
   ]
  },
  {
   "cell_type": "code",
   "execution_count": null,
   "id": "2bf37341-f775-4477-84ff-3f1330799f47",
   "metadata": {},
   "outputs": [],
   "source": [
    "by creating absract class and inherit them"
   ]
  },
  {
   "cell_type": "code",
   "execution_count": null,
   "id": "e9fd8789-2a0d-443c-83fb-e987e4548d8b",
   "metadata": {},
   "outputs": [],
   "source": [
    "Q5. Can we create an instance of an abstract class? Explain your answer."
   ]
  },
  {
   "cell_type": "code",
   "execution_count": null,
   "id": "7c9388c2-48cb-4d85-af9e-ab0ec4aa8e37",
   "metadata": {},
   "outputs": [],
   "source": [
    "No, we can't create an object of an abstract class. But we can create a reference variable of an abstract class. The reference variable is used to refer to the objects of derived classes"
   ]
  },
  {
   "cell_type": "code",
   "execution_count": null,
   "id": "442c18ea-37f5-402e-b819-38c90169254a",
   "metadata": {},
   "outputs": [],
   "source": []
  }
 ],
 "metadata": {
  "kernelspec": {
   "display_name": "Python 3 (ipykernel)",
   "language": "python",
   "name": "python3"
  },
  "language_info": {
   "codemirror_mode": {
    "name": "ipython",
    "version": 3
   },
   "file_extension": ".py",
   "mimetype": "text/x-python",
   "name": "python",
   "nbconvert_exporter": "python",
   "pygments_lexer": "ipython3",
   "version": "3.10.8"
  }
 },
 "nbformat": 4,
 "nbformat_minor": 5
}
